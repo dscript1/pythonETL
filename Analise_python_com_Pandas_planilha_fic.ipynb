{
  "nbformat": 4,
  "nbformat_minor": 0,
  "metadata": {
    "colab": {
      "name": "Analise_python_com_Pandas_planilha_fic.ipynb",
      "provenance": [],
      "collapsed_sections": [],
      "mount_file_id": "1HTG4C3Yhi8M5nIEsJ6tmY5yZ_3hnmHUg",
      "authorship_tag": "ABX9TyOvlGxJWNvsC8KdOiuy4YgC",
      "include_colab_link": true
    },
    "kernelspec": {
      "name": "python3",
      "display_name": "Python 3"
    },
    "language_info": {
      "name": "python"
    }
  },
  "cells": [
    {
      "cell_type": "markdown",
      "metadata": {
        "id": "view-in-github",
        "colab_type": "text"
      },
      "source": [
        "<a href=\"https://colab.research.google.com/github/dscript1/pythonETL/blob/main/Analise_python_com_Pandas_planilha_fic.ipynb\" target=\"_parent\"><img src=\"https://colab.research.google.com/assets/colab-badge.svg\" alt=\"Open In Colab\"/></a>"
      ]
    },
    {
      "cell_type": "markdown",
      "metadata": {
        "id": "f5kKgjPhQ7Uo"
      },
      "source": [
        "### **Python para análise de dados com pd**"
      ]
    },
    {
      "cell_type": "code",
      "metadata": {
        "id": "bXJiRNr3RGA_"
      },
      "source": [
        "import pandas as pd\n"
      ],
      "execution_count": null,
      "outputs": []
    },
    {
      "cell_type": "code",
      "metadata": {
        "id": "5_CBC8WYeTsr"
      },
      "source": [
        "df = pd.read_csv(\"/content/drive/MyDrive/newtestmodel.csv - Página1.csv\", sep=\",\", error_bad_lines=False)"
      ],
      "execution_count": null,
      "outputs": []
    },
    {
      "cell_type": "code",
      "metadata": {
        "colab": {
          "base_uri": "https://localhost:8080/",
          "height": 204
        },
        "id": "pB3g9HyDgsw0",
        "outputId": "ebffecb8-1825-4b8c-9ab1-e50fe6e49988"
      },
      "source": [
        "df.head()"
      ],
      "execution_count": null,
      "outputs": [
        {
          "output_type": "execute_result",
          "data": {
            "text/html": [
              "<div>\n",
              "<style scoped>\n",
              "    .dataframe tbody tr th:only-of-type {\n",
              "        vertical-align: middle;\n",
              "    }\n",
              "\n",
              "    .dataframe tbody tr th {\n",
              "        vertical-align: top;\n",
              "    }\n",
              "\n",
              "    .dataframe thead th {\n",
              "        text-align: right;\n",
              "    }\n",
              "</style>\n",
              "<table border=\"1\" class=\"dataframe\">\n",
              "  <thead>\n",
              "    <tr style=\"text-align: right;\">\n",
              "      <th></th>\n",
              "      <th>Nome</th>\n",
              "      <th>Sobrenome</th>\n",
              "      <th>Idade</th>\n",
              "      <th>Gênero</th>\n",
              "      <th>Cidade</th>\n",
              "      <th>Estado (UF)</th>\n",
              "      <th>Data 1ª dose</th>\n",
              "      <th>Data 2ª dose</th>\n",
              "    </tr>\n",
              "  </thead>\n",
              "  <tbody>\n",
              "    <tr>\n",
              "      <th>0</th>\n",
              "      <td>Alessandro</td>\n",
              "      <td>Campos Loureiro</td>\n",
              "      <td>24</td>\n",
              "      <td>M CIS</td>\n",
              "      <td>Paraupebas</td>\n",
              "      <td>PA</td>\n",
              "      <td>12/08/2021</td>\n",
              "      <td>29/10/2021</td>\n",
              "    </tr>\n",
              "    <tr>\n",
              "      <th>1</th>\n",
              "      <td>Amanda</td>\n",
              "      <td>Lopes dos Santos</td>\n",
              "      <td>30</td>\n",
              "      <td>F CIS</td>\n",
              "      <td>Rio das Ostras</td>\n",
              "      <td>RJ</td>\n",
              "      <td>29/07/2021</td>\n",
              "      <td>19/10/2021</td>\n",
              "    </tr>\n",
              "    <tr>\n",
              "      <th>2</th>\n",
              "      <td>Flávia</td>\n",
              "      <td>Weber Ragazzi</td>\n",
              "      <td>26</td>\n",
              "      <td>F CIS</td>\n",
              "      <td>Londrina</td>\n",
              "      <td>PR</td>\n",
              "      <td>05/08/2021</td>\n",
              "      <td>22/10/2021</td>\n",
              "    </tr>\n",
              "    <tr>\n",
              "      <th>3</th>\n",
              "      <td>Joana</td>\n",
              "      <td>Lopes Andrade</td>\n",
              "      <td>35</td>\n",
              "      <td>F TRANS</td>\n",
              "      <td>Porto Alegre</td>\n",
              "      <td>RS</td>\n",
              "      <td>20/07/2021</td>\n",
              "      <td>06/10/2021</td>\n",
              "    </tr>\n",
              "    <tr>\n",
              "      <th>4</th>\n",
              "      <td>João Pedro</td>\n",
              "      <td>Santos da Silva</td>\n",
              "      <td>20</td>\n",
              "      <td>M CIS</td>\n",
              "      <td>Rio de Janeiro</td>\n",
              "      <td>RJ</td>\n",
              "      <td>13/10/2021</td>\n",
              "      <td>NaN</td>\n",
              "    </tr>\n",
              "  </tbody>\n",
              "</table>\n",
              "</div>"
            ],
            "text/plain": [
              "         Nome         Sobrenome  Idade  ... Estado (UF) Data 1ª dose Data 2ª dose\n",
              "0  Alessandro   Campos Loureiro     24  ...          PA   12/08/2021   29/10/2021\n",
              "1      Amanda  Lopes dos Santos     30  ...          RJ   29/07/2021   19/10/2021\n",
              "2      Flávia     Weber Ragazzi     26  ...          PR   05/08/2021   22/10/2021\n",
              "3       Joana     Lopes Andrade     35  ...          RS   20/07/2021   06/10/2021\n",
              "4  João Pedro   Santos da Silva     20  ...          RJ   13/10/2021          NaN\n",
              "\n",
              "[5 rows x 8 columns]"
            ]
          },
          "metadata": {},
          "execution_count": 6
        }
      ]
    },
    {
      "cell_type": "code",
      "metadata": {
        "id": "O5sJLKiu5b1c"
      },
      "source": [
        "#mudando o nome da coluna\n",
        "\n",
        "df = df.rename({'$Data 1ª dose':'data_dose1', '$Data 2ª dose':'data_dose2'}, axis='columns')"
      ],
      "execution_count": null,
      "outputs": []
    },
    {
      "cell_type": "code",
      "metadata": {
        "colab": {
          "base_uri": "https://localhost:8080/",
          "height": 328
        },
        "id": "u1nqWJ_Oh5Te",
        "outputId": "9569168b-10e1-4be9-cac6-16231a58459c"
      },
      "source": [
        "df.head(10)"
      ],
      "execution_count": null,
      "outputs": [
        {
          "output_type": "execute_result",
          "data": {
            "text/html": [
              "<div>\n",
              "<style scoped>\n",
              "    .dataframe tbody tr th:only-of-type {\n",
              "        vertical-align: middle;\n",
              "    }\n",
              "\n",
              "    .dataframe tbody tr th {\n",
              "        vertical-align: top;\n",
              "    }\n",
              "\n",
              "    .dataframe thead th {\n",
              "        text-align: right;\n",
              "    }\n",
              "</style>\n",
              "<table border=\"1\" class=\"dataframe\">\n",
              "  <thead>\n",
              "    <tr style=\"text-align: right;\">\n",
              "      <th></th>\n",
              "      <th>Nome</th>\n",
              "      <th>Sobrenome</th>\n",
              "      <th>Idade</th>\n",
              "      <th>Gênero</th>\n",
              "      <th>Cidade</th>\n",
              "      <th>Estado (UF)</th>\n",
              "      <th>Data 1ª dose</th>\n",
              "      <th>Data 2ª dose</th>\n",
              "    </tr>\n",
              "  </thead>\n",
              "  <tbody>\n",
              "    <tr>\n",
              "      <th>0</th>\n",
              "      <td>Alessandro</td>\n",
              "      <td>Campos Loureiro</td>\n",
              "      <td>24</td>\n",
              "      <td>M CIS</td>\n",
              "      <td>Paraupebas</td>\n",
              "      <td>PA</td>\n",
              "      <td>12/08/2021</td>\n",
              "      <td>29/10/2021</td>\n",
              "    </tr>\n",
              "    <tr>\n",
              "      <th>1</th>\n",
              "      <td>Amanda</td>\n",
              "      <td>Lopes dos Santos</td>\n",
              "      <td>30</td>\n",
              "      <td>F CIS</td>\n",
              "      <td>Rio das Ostras</td>\n",
              "      <td>RJ</td>\n",
              "      <td>29/07/2021</td>\n",
              "      <td>19/10/2021</td>\n",
              "    </tr>\n",
              "    <tr>\n",
              "      <th>2</th>\n",
              "      <td>Flávia</td>\n",
              "      <td>Weber Ragazzi</td>\n",
              "      <td>26</td>\n",
              "      <td>F CIS</td>\n",
              "      <td>Londrina</td>\n",
              "      <td>PR</td>\n",
              "      <td>05/08/2021</td>\n",
              "      <td>22/10/2021</td>\n",
              "    </tr>\n",
              "    <tr>\n",
              "      <th>3</th>\n",
              "      <td>Joana</td>\n",
              "      <td>Lopes Andrade</td>\n",
              "      <td>35</td>\n",
              "      <td>F TRANS</td>\n",
              "      <td>Porto Alegre</td>\n",
              "      <td>RS</td>\n",
              "      <td>20/07/2021</td>\n",
              "      <td>06/10/2021</td>\n",
              "    </tr>\n",
              "    <tr>\n",
              "      <th>4</th>\n",
              "      <td>João Pedro</td>\n",
              "      <td>Santos da Silva</td>\n",
              "      <td>20</td>\n",
              "      <td>M CIS</td>\n",
              "      <td>Rio de Janeiro</td>\n",
              "      <td>RJ</td>\n",
              "      <td>13/10/2021</td>\n",
              "      <td>NaN</td>\n",
              "    </tr>\n",
              "    <tr>\n",
              "      <th>5</th>\n",
              "      <td>Luiz Felipe</td>\n",
              "      <td>Andrade de Araújo</td>\n",
              "      <td>18</td>\n",
              "      <td>M TRANS</td>\n",
              "      <td>São José dos Campos</td>\n",
              "      <td>SP</td>\n",
              "      <td>28/10/2021</td>\n",
              "      <td>NaN</td>\n",
              "    </tr>\n",
              "    <tr>\n",
              "      <th>6</th>\n",
              "      <td>Marcos</td>\n",
              "      <td>Moura Schneider</td>\n",
              "      <td>28</td>\n",
              "      <td>M CIS</td>\n",
              "      <td>Viçosa</td>\n",
              "      <td>MG</td>\n",
              "      <td>04/08/2021</td>\n",
              "      <td>25/10/2021</td>\n",
              "    </tr>\n",
              "    <tr>\n",
              "      <th>7</th>\n",
              "      <td>Mariana</td>\n",
              "      <td>Souza Marques</td>\n",
              "      <td>33</td>\n",
              "      <td>F CIS</td>\n",
              "      <td>Blumenau</td>\n",
              "      <td>SC</td>\n",
              "      <td>28/07/2021</td>\n",
              "      <td>01/10/2021</td>\n",
              "    </tr>\n",
              "    <tr>\n",
              "      <th>8</th>\n",
              "      <td>Carlos</td>\n",
              "      <td>Campos de Carvalho</td>\n",
              "      <td>48</td>\n",
              "      <td>M CIS</td>\n",
              "      <td>Rio Verde</td>\n",
              "      <td>GO</td>\n",
              "      <td>09/04/2021</td>\n",
              "      <td>05/07/2021</td>\n",
              "    </tr>\n",
              "  </tbody>\n",
              "</table>\n",
              "</div>"
            ],
            "text/plain": [
              "          Nome           Sobrenome  Idade  ... Estado (UF) Data 1ª dose Data 2ª dose\n",
              "0   Alessandro     Campos Loureiro     24  ...          PA   12/08/2021   29/10/2021\n",
              "1       Amanda    Lopes dos Santos     30  ...          RJ   29/07/2021   19/10/2021\n",
              "2       Flávia       Weber Ragazzi     26  ...          PR   05/08/2021   22/10/2021\n",
              "3        Joana       Lopes Andrade     35  ...          RS   20/07/2021   06/10/2021\n",
              "4   João Pedro     Santos da Silva     20  ...          RJ   13/10/2021          NaN\n",
              "5  Luiz Felipe   Andrade de Araújo     18  ...          SP   28/10/2021          NaN\n",
              "6       Marcos     Moura Schneider     28  ...          MG   04/08/2021   25/10/2021\n",
              "7      Mariana       Souza Marques     33  ...          SC   28/07/2021   01/10/2021\n",
              "8       Carlos  Campos de Carvalho     48  ...          GO   09/04/2021   05/07/2021\n",
              "\n",
              "[9 rows x 8 columns]"
            ]
          },
          "metadata": {},
          "execution_count": 45
        }
      ]
    },
    {
      "cell_type": "code",
      "metadata": {
        "colab": {
          "base_uri": "https://localhost:8080/"
        },
        "id": "4nWG2pqNh-5f",
        "outputId": "dae41e1d-6c67-4783-ecb3-4652004944d6"
      },
      "source": [
        "df.shape"
      ],
      "execution_count": null,
      "outputs": [
        {
          "output_type": "execute_result",
          "data": {
            "text/plain": [
              "(9, 8)"
            ]
          },
          "metadata": {},
          "execution_count": 8
        }
      ]
    },
    {
      "cell_type": "code",
      "metadata": {
        "colab": {
          "base_uri": "https://localhost:8080/"
        },
        "id": "KLpBKjHPiHGE",
        "outputId": "58002fa7-f84c-4a36-87f7-e6e7e533b135"
      },
      "source": [
        "df.columns"
      ],
      "execution_count": null,
      "outputs": [
        {
          "output_type": "execute_result",
          "data": {
            "text/plain": [
              "Index(['Nome', 'Sobrenome', 'Idade', 'Gênero', 'Cidade', 'Estado (UF)',\n",
              "       'Data 1ª dose', 'Data 2ª dose'],\n",
              "      dtype='object')"
            ]
          },
          "metadata": {},
          "execution_count": 46
        }
      ]
    },
    {
      "cell_type": "code",
      "metadata": {
        "id": "oaCeGfJa_0eJ"
      },
      "source": [
        "#renomeando nome das colunas\n",
        "df.rename(columns={'Data 1ª dose': 'data_dose1', 'Data 2ª dose': 'data_dose2'}, inplace=True)"
      ],
      "execution_count": null,
      "outputs": []
    },
    {
      "cell_type": "code",
      "metadata": {
        "colab": {
          "base_uri": "https://localhost:8080/"
        },
        "id": "e--O8xV-iM5K",
        "outputId": "ff4752b4-42fa-4363-abc2-e2c71583adc4"
      },
      "source": [
        "df.dtypes"
      ],
      "execution_count": null,
      "outputs": [
        {
          "output_type": "execute_result",
          "data": {
            "text/plain": [
              "Nome           object\n",
              "Sobrenome      object\n",
              "Idade           int64\n",
              "Gênero         object\n",
              "Cidade         object\n",
              "Estado (UF)    object\n",
              "data_dose1     object\n",
              "data_dose2     object\n",
              "dtype: object"
            ]
          },
          "metadata": {},
          "execution_count": 60
        }
      ]
    },
    {
      "cell_type": "code",
      "metadata": {
        "colab": {
          "base_uri": "https://localhost:8080/",
          "height": 204
        },
        "id": "UHyi1vrxin8F",
        "outputId": "a012a6d6-9f57-4ab2-b84d-a1a472195f44"
      },
      "source": [
        "df.tail()"
      ],
      "execution_count": null,
      "outputs": [
        {
          "output_type": "execute_result",
          "data": {
            "text/html": [
              "<div>\n",
              "<style scoped>\n",
              "    .dataframe tbody tr th:only-of-type {\n",
              "        vertical-align: middle;\n",
              "    }\n",
              "\n",
              "    .dataframe tbody tr th {\n",
              "        vertical-align: top;\n",
              "    }\n",
              "\n",
              "    .dataframe thead th {\n",
              "        text-align: right;\n",
              "    }\n",
              "</style>\n",
              "<table border=\"1\" class=\"dataframe\">\n",
              "  <thead>\n",
              "    <tr style=\"text-align: right;\">\n",
              "      <th></th>\n",
              "      <th>Nome</th>\n",
              "      <th>Sobrenome</th>\n",
              "      <th>Idade</th>\n",
              "      <th>Gênero</th>\n",
              "      <th>Cidade</th>\n",
              "      <th>Estado (UF)</th>\n",
              "      <th>data_dose1</th>\n",
              "      <th>data_dose2</th>\n",
              "    </tr>\n",
              "  </thead>\n",
              "  <tbody>\n",
              "    <tr>\n",
              "      <th>4</th>\n",
              "      <td>João Pedro</td>\n",
              "      <td>Santos da Silva</td>\n",
              "      <td>20</td>\n",
              "      <td>M CIS</td>\n",
              "      <td>Rio de Janeiro</td>\n",
              "      <td>RJ</td>\n",
              "      <td>13/10/2021</td>\n",
              "      <td>NaN</td>\n",
              "    </tr>\n",
              "    <tr>\n",
              "      <th>5</th>\n",
              "      <td>Luiz Felipe</td>\n",
              "      <td>Andrade de Araújo</td>\n",
              "      <td>18</td>\n",
              "      <td>M TRANS</td>\n",
              "      <td>São José dos Campos</td>\n",
              "      <td>SP</td>\n",
              "      <td>28/10/2021</td>\n",
              "      <td>NaN</td>\n",
              "    </tr>\n",
              "    <tr>\n",
              "      <th>6</th>\n",
              "      <td>Marcos</td>\n",
              "      <td>Moura Schneider</td>\n",
              "      <td>28</td>\n",
              "      <td>M CIS</td>\n",
              "      <td>Viçosa</td>\n",
              "      <td>MG</td>\n",
              "      <td>04/08/2021</td>\n",
              "      <td>25/10/2021</td>\n",
              "    </tr>\n",
              "    <tr>\n",
              "      <th>7</th>\n",
              "      <td>Mariana</td>\n",
              "      <td>Souza Marques</td>\n",
              "      <td>33</td>\n",
              "      <td>F CIS</td>\n",
              "      <td>Blumenau</td>\n",
              "      <td>SC</td>\n",
              "      <td>28/07/2021</td>\n",
              "      <td>01/10/2021</td>\n",
              "    </tr>\n",
              "    <tr>\n",
              "      <th>8</th>\n",
              "      <td>Carlos</td>\n",
              "      <td>Campos de Carvalho</td>\n",
              "      <td>48</td>\n",
              "      <td>M CIS</td>\n",
              "      <td>Rio Verde</td>\n",
              "      <td>GO</td>\n",
              "      <td>09/04/2021</td>\n",
              "      <td>05/07/2021</td>\n",
              "    </tr>\n",
              "  </tbody>\n",
              "</table>\n",
              "</div>"
            ],
            "text/plain": [
              "          Nome           Sobrenome  Idade  ... Estado (UF)  data_dose1  data_dose2\n",
              "4   João Pedro     Santos da Silva     20  ...          RJ  13/10/2021         NaN\n",
              "5  Luiz Felipe   Andrade de Araújo     18  ...          SP  28/10/2021         NaN\n",
              "6       Marcos     Moura Schneider     28  ...          MG  04/08/2021  25/10/2021\n",
              "7      Mariana       Souza Marques     33  ...          SC  28/07/2021  01/10/2021\n",
              "8       Carlos  Campos de Carvalho     48  ...          GO  09/04/2021  05/07/2021\n",
              "\n",
              "[5 rows x 8 columns]"
            ]
          },
          "metadata": {},
          "execution_count": 61
        }
      ]
    },
    {
      "cell_type": "code",
      "metadata": {
        "colab": {
          "base_uri": "https://localhost:8080/",
          "height": 204
        },
        "id": "WdX4AKGy9jGY",
        "outputId": "374b2fc2-a478-433e-fc06-b61e6a75874c"
      },
      "source": [
        "df.tail()"
      ],
      "execution_count": null,
      "outputs": [
        {
          "output_type": "execute_result",
          "data": {
            "text/html": [
              "<div>\n",
              "<style scoped>\n",
              "    .dataframe tbody tr th:only-of-type {\n",
              "        vertical-align: middle;\n",
              "    }\n",
              "\n",
              "    .dataframe tbody tr th {\n",
              "        vertical-align: top;\n",
              "    }\n",
              "\n",
              "    .dataframe thead th {\n",
              "        text-align: right;\n",
              "    }\n",
              "</style>\n",
              "<table border=\"1\" class=\"dataframe\">\n",
              "  <thead>\n",
              "    <tr style=\"text-align: right;\">\n",
              "      <th></th>\n",
              "      <th>Nome</th>\n",
              "      <th>Sobrenome</th>\n",
              "      <th>Idade</th>\n",
              "      <th>Gênero</th>\n",
              "      <th>Cidade</th>\n",
              "      <th>Estado (UF)</th>\n",
              "      <th>data_dose1</th>\n",
              "      <th>data_dose2</th>\n",
              "    </tr>\n",
              "  </thead>\n",
              "  <tbody>\n",
              "    <tr>\n",
              "      <th>4</th>\n",
              "      <td>João Pedro</td>\n",
              "      <td>Santos da Silva</td>\n",
              "      <td>20</td>\n",
              "      <td>M CIS</td>\n",
              "      <td>Rio de Janeiro</td>\n",
              "      <td>RJ</td>\n",
              "      <td>13/10/2021</td>\n",
              "      <td>NaN</td>\n",
              "    </tr>\n",
              "    <tr>\n",
              "      <th>5</th>\n",
              "      <td>Luiz Felipe</td>\n",
              "      <td>Andrade de Araújo</td>\n",
              "      <td>18</td>\n",
              "      <td>M TRANS</td>\n",
              "      <td>São José dos Campos</td>\n",
              "      <td>SP</td>\n",
              "      <td>28/10/2021</td>\n",
              "      <td>NaN</td>\n",
              "    </tr>\n",
              "    <tr>\n",
              "      <th>6</th>\n",
              "      <td>Marcos</td>\n",
              "      <td>Moura Schneider</td>\n",
              "      <td>28</td>\n",
              "      <td>M CIS</td>\n",
              "      <td>Viçosa</td>\n",
              "      <td>MG</td>\n",
              "      <td>04/08/2021</td>\n",
              "      <td>25/10/2021</td>\n",
              "    </tr>\n",
              "    <tr>\n",
              "      <th>7</th>\n",
              "      <td>Mariana</td>\n",
              "      <td>Souza Marques</td>\n",
              "      <td>33</td>\n",
              "      <td>F CIS</td>\n",
              "      <td>Blumenau</td>\n",
              "      <td>SC</td>\n",
              "      <td>28/07/2021</td>\n",
              "      <td>01/10/2021</td>\n",
              "    </tr>\n",
              "    <tr>\n",
              "      <th>8</th>\n",
              "      <td>Carlos</td>\n",
              "      <td>Campos de Carvalho</td>\n",
              "      <td>48</td>\n",
              "      <td>M CIS</td>\n",
              "      <td>Rio Verde</td>\n",
              "      <td>GO</td>\n",
              "      <td>09/04/2021</td>\n",
              "      <td>05/07/2021</td>\n",
              "    </tr>\n",
              "  </tbody>\n",
              "</table>\n",
              "</div>"
            ],
            "text/plain": [
              "          Nome           Sobrenome  Idade  ... Estado (UF)  data_dose1  data_dose2\n",
              "4   João Pedro     Santos da Silva     20  ...          RJ  13/10/2021         NaN\n",
              "5  Luiz Felipe   Andrade de Araújo     18  ...          SP  28/10/2021         NaN\n",
              "6       Marcos     Moura Schneider     28  ...          MG  04/08/2021  25/10/2021\n",
              "7      Mariana       Souza Marques     33  ...          SC  28/07/2021  01/10/2021\n",
              "8       Carlos  Campos de Carvalho     48  ...          GO  09/04/2021  05/07/2021\n",
              "\n",
              "[5 rows x 8 columns]"
            ]
          },
          "metadata": {},
          "execution_count": 62
        }
      ]
    },
    {
      "cell_type": "code",
      "metadata": {
        "colab": {
          "base_uri": "https://localhost:8080/",
          "height": 297
        },
        "id": "CqFSmxMFizSs",
        "outputId": "0e54455a-03dc-4841-cebd-3300a45e2ea3"
      },
      "source": [
        "df.describe()"
      ],
      "execution_count": null,
      "outputs": [
        {
          "output_type": "execute_result",
          "data": {
            "text/html": [
              "<div>\n",
              "<style scoped>\n",
              "    .dataframe tbody tr th:only-of-type {\n",
              "        vertical-align: middle;\n",
              "    }\n",
              "\n",
              "    .dataframe tbody tr th {\n",
              "        vertical-align: top;\n",
              "    }\n",
              "\n",
              "    .dataframe thead th {\n",
              "        text-align: right;\n",
              "    }\n",
              "</style>\n",
              "<table border=\"1\" class=\"dataframe\">\n",
              "  <thead>\n",
              "    <tr style=\"text-align: right;\">\n",
              "      <th></th>\n",
              "      <th>Idade</th>\n",
              "    </tr>\n",
              "  </thead>\n",
              "  <tbody>\n",
              "    <tr>\n",
              "      <th>count</th>\n",
              "      <td>9.000000</td>\n",
              "    </tr>\n",
              "    <tr>\n",
              "      <th>mean</th>\n",
              "      <td>29.111111</td>\n",
              "    </tr>\n",
              "    <tr>\n",
              "      <th>std</th>\n",
              "      <td>9.020039</td>\n",
              "    </tr>\n",
              "    <tr>\n",
              "      <th>min</th>\n",
              "      <td>18.000000</td>\n",
              "    </tr>\n",
              "    <tr>\n",
              "      <th>25%</th>\n",
              "      <td>24.000000</td>\n",
              "    </tr>\n",
              "    <tr>\n",
              "      <th>50%</th>\n",
              "      <td>28.000000</td>\n",
              "    </tr>\n",
              "    <tr>\n",
              "      <th>75%</th>\n",
              "      <td>33.000000</td>\n",
              "    </tr>\n",
              "    <tr>\n",
              "      <th>max</th>\n",
              "      <td>48.000000</td>\n",
              "    </tr>\n",
              "  </tbody>\n",
              "</table>\n",
              "</div>"
            ],
            "text/plain": [
              "           Idade\n",
              "count   9.000000\n",
              "mean   29.111111\n",
              "std     9.020039\n",
              "min    18.000000\n",
              "25%    24.000000\n",
              "50%    28.000000\n",
              "75%    33.000000\n",
              "max    48.000000"
            ]
          },
          "metadata": {},
          "execution_count": 64
        }
      ]
    },
    {
      "cell_type": "code",
      "metadata": {
        "colab": {
          "base_uri": "https://localhost:8080/"
        },
        "id": "jpoHlICxFcL0",
        "outputId": "8d286eba-ebcc-42e3-f237-83bbd132bc55"
      },
      "source": [
        "df[\"Nome\"].unique()"
      ],
      "execution_count": null,
      "outputs": [
        {
          "output_type": "execute_result",
          "data": {
            "text/plain": [
              "array(['Alessandro', 'Amanda', 'Flávia', 'Joana', 'João Pedro',\n",
              "       'Luiz Felipe', 'Marcos', 'Mariana', 'Carlos'], dtype=object)"
            ]
          },
          "metadata": {},
          "execution_count": 65
        }
      ]
    },
    {
      "cell_type": "code",
      "metadata": {
        "colab": {
          "base_uri": "https://localhost:8080/",
          "height": 359
        },
        "id": "KlLmc46oGFTr",
        "outputId": "00a9fcb8-5d8b-4f7e-bd99-6aa756f6ca76"
      },
      "source": [
        "df.groupby(\"Nome\").nunique()"
      ],
      "execution_count": null,
      "outputs": [
        {
          "output_type": "execute_result",
          "data": {
            "text/html": [
              "<div>\n",
              "<style scoped>\n",
              "    .dataframe tbody tr th:only-of-type {\n",
              "        vertical-align: middle;\n",
              "    }\n",
              "\n",
              "    .dataframe tbody tr th {\n",
              "        vertical-align: top;\n",
              "    }\n",
              "\n",
              "    .dataframe thead th {\n",
              "        text-align: right;\n",
              "    }\n",
              "</style>\n",
              "<table border=\"1\" class=\"dataframe\">\n",
              "  <thead>\n",
              "    <tr style=\"text-align: right;\">\n",
              "      <th></th>\n",
              "      <th>Sobrenome</th>\n",
              "      <th>Idade</th>\n",
              "      <th>Gênero</th>\n",
              "      <th>Cidade</th>\n",
              "      <th>Estado (UF)</th>\n",
              "      <th>data_dose1</th>\n",
              "      <th>data_dose2</th>\n",
              "    </tr>\n",
              "    <tr>\n",
              "      <th>Nome</th>\n",
              "      <th></th>\n",
              "      <th></th>\n",
              "      <th></th>\n",
              "      <th></th>\n",
              "      <th></th>\n",
              "      <th></th>\n",
              "      <th></th>\n",
              "    </tr>\n",
              "  </thead>\n",
              "  <tbody>\n",
              "    <tr>\n",
              "      <th>Alessandro</th>\n",
              "      <td>1</td>\n",
              "      <td>1</td>\n",
              "      <td>1</td>\n",
              "      <td>1</td>\n",
              "      <td>1</td>\n",
              "      <td>1</td>\n",
              "      <td>1</td>\n",
              "    </tr>\n",
              "    <tr>\n",
              "      <th>Amanda</th>\n",
              "      <td>1</td>\n",
              "      <td>1</td>\n",
              "      <td>1</td>\n",
              "      <td>1</td>\n",
              "      <td>1</td>\n",
              "      <td>1</td>\n",
              "      <td>1</td>\n",
              "    </tr>\n",
              "    <tr>\n",
              "      <th>Carlos</th>\n",
              "      <td>1</td>\n",
              "      <td>1</td>\n",
              "      <td>1</td>\n",
              "      <td>1</td>\n",
              "      <td>1</td>\n",
              "      <td>1</td>\n",
              "      <td>1</td>\n",
              "    </tr>\n",
              "    <tr>\n",
              "      <th>Flávia</th>\n",
              "      <td>1</td>\n",
              "      <td>1</td>\n",
              "      <td>1</td>\n",
              "      <td>1</td>\n",
              "      <td>1</td>\n",
              "      <td>1</td>\n",
              "      <td>1</td>\n",
              "    </tr>\n",
              "    <tr>\n",
              "      <th>Joana</th>\n",
              "      <td>1</td>\n",
              "      <td>1</td>\n",
              "      <td>1</td>\n",
              "      <td>1</td>\n",
              "      <td>1</td>\n",
              "      <td>1</td>\n",
              "      <td>1</td>\n",
              "    </tr>\n",
              "    <tr>\n",
              "      <th>João Pedro</th>\n",
              "      <td>1</td>\n",
              "      <td>1</td>\n",
              "      <td>1</td>\n",
              "      <td>1</td>\n",
              "      <td>1</td>\n",
              "      <td>1</td>\n",
              "      <td>0</td>\n",
              "    </tr>\n",
              "    <tr>\n",
              "      <th>Luiz Felipe</th>\n",
              "      <td>1</td>\n",
              "      <td>1</td>\n",
              "      <td>1</td>\n",
              "      <td>1</td>\n",
              "      <td>1</td>\n",
              "      <td>1</td>\n",
              "      <td>0</td>\n",
              "    </tr>\n",
              "    <tr>\n",
              "      <th>Marcos</th>\n",
              "      <td>1</td>\n",
              "      <td>1</td>\n",
              "      <td>1</td>\n",
              "      <td>1</td>\n",
              "      <td>1</td>\n",
              "      <td>1</td>\n",
              "      <td>1</td>\n",
              "    </tr>\n",
              "    <tr>\n",
              "      <th>Mariana</th>\n",
              "      <td>1</td>\n",
              "      <td>1</td>\n",
              "      <td>1</td>\n",
              "      <td>1</td>\n",
              "      <td>1</td>\n",
              "      <td>1</td>\n",
              "      <td>1</td>\n",
              "    </tr>\n",
              "  </tbody>\n",
              "</table>\n",
              "</div>"
            ],
            "text/plain": [
              "             Sobrenome  Idade  Gênero  ...  Estado (UF)  data_dose1  data_dose2\n",
              "Nome                                   ...                                     \n",
              "Alessandro           1      1       1  ...            1           1           1\n",
              "Amanda               1      1       1  ...            1           1           1\n",
              "Carlos               1      1       1  ...            1           1           1\n",
              "Flávia               1      1       1  ...            1           1           1\n",
              "Joana                1      1       1  ...            1           1           1\n",
              "João Pedro           1      1       1  ...            1           1           0\n",
              "Luiz Felipe          1      1       1  ...            1           1           0\n",
              "Marcos               1      1       1  ...            1           1           1\n",
              "Mariana              1      1       1  ...            1           1           1\n",
              "\n",
              "[9 rows x 7 columns]"
            ]
          },
          "metadata": {},
          "execution_count": 66
        }
      ]
    },
    {
      "cell_type": "markdown",
      "metadata": {
        "id": "jqJ5xJ9O39a9"
      },
      "source": [
        "### **Trabalhando com datas**"
      ]
    },
    {
      "cell_type": "code",
      "metadata": {
        "colab": {
          "base_uri": "https://localhost:8080/"
        },
        "id": "fiZcU6ey5RyZ",
        "outputId": "c455359f-5d0a-41d1-f694-16abf89d6f1d"
      },
      "source": [
        "df.dtypes"
      ],
      "execution_count": null,
      "outputs": [
        {
          "output_type": "execute_result",
          "data": {
            "text/plain": [
              "Nome           object\n",
              "Sobrenome      object\n",
              "Idade           int64\n",
              "Gênero         object\n",
              "Cidade         object\n",
              "Estado (UF)    object\n",
              "data_dose1     object\n",
              "data_dose2     object\n",
              "dtype: object"
            ]
          },
          "metadata": {},
          "execution_count": 69
        }
      ]
    },
    {
      "cell_type": "code",
      "metadata": {
        "colab": {
          "base_uri": "https://localhost:8080/",
          "height": 328
        },
        "id": "uGHUdHVe6wzm",
        "outputId": "02c73f81-c712-4c7f-e7b5-37333c8070d8"
      },
      "source": [
        "#visualizando novo conjunto de colunas\n",
        "\n",
        "df.head(10)"
      ],
      "execution_count": null,
      "outputs": [
        {
          "output_type": "execute_result",
          "data": {
            "text/html": [
              "<div>\n",
              "<style scoped>\n",
              "    .dataframe tbody tr th:only-of-type {\n",
              "        vertical-align: middle;\n",
              "    }\n",
              "\n",
              "    .dataframe tbody tr th {\n",
              "        vertical-align: top;\n",
              "    }\n",
              "\n",
              "    .dataframe thead th {\n",
              "        text-align: right;\n",
              "    }\n",
              "</style>\n",
              "<table border=\"1\" class=\"dataframe\">\n",
              "  <thead>\n",
              "    <tr style=\"text-align: right;\">\n",
              "      <th></th>\n",
              "      <th>Nome</th>\n",
              "      <th>Sobrenome</th>\n",
              "      <th>Idade</th>\n",
              "      <th>Gênero</th>\n",
              "      <th>Cidade</th>\n",
              "      <th>Estado (UF)</th>\n",
              "      <th>data_dose1</th>\n",
              "      <th>data_dose2</th>\n",
              "    </tr>\n",
              "  </thead>\n",
              "  <tbody>\n",
              "    <tr>\n",
              "      <th>0</th>\n",
              "      <td>Alessandro</td>\n",
              "      <td>Campos Loureiro</td>\n",
              "      <td>24</td>\n",
              "      <td>M CIS</td>\n",
              "      <td>Paraupebas</td>\n",
              "      <td>PA</td>\n",
              "      <td>12/08/2021</td>\n",
              "      <td>29/10/2021</td>\n",
              "    </tr>\n",
              "    <tr>\n",
              "      <th>1</th>\n",
              "      <td>Amanda</td>\n",
              "      <td>Lopes dos Santos</td>\n",
              "      <td>30</td>\n",
              "      <td>F CIS</td>\n",
              "      <td>Rio das Ostras</td>\n",
              "      <td>RJ</td>\n",
              "      <td>29/07/2021</td>\n",
              "      <td>19/10/2021</td>\n",
              "    </tr>\n",
              "    <tr>\n",
              "      <th>2</th>\n",
              "      <td>Flávia</td>\n",
              "      <td>Weber Ragazzi</td>\n",
              "      <td>26</td>\n",
              "      <td>F CIS</td>\n",
              "      <td>Londrina</td>\n",
              "      <td>PR</td>\n",
              "      <td>05/08/2021</td>\n",
              "      <td>22/10/2021</td>\n",
              "    </tr>\n",
              "    <tr>\n",
              "      <th>3</th>\n",
              "      <td>Joana</td>\n",
              "      <td>Lopes Andrade</td>\n",
              "      <td>35</td>\n",
              "      <td>F TRANS</td>\n",
              "      <td>Porto Alegre</td>\n",
              "      <td>RS</td>\n",
              "      <td>20/07/2021</td>\n",
              "      <td>06/10/2021</td>\n",
              "    </tr>\n",
              "    <tr>\n",
              "      <th>4</th>\n",
              "      <td>João Pedro</td>\n",
              "      <td>Santos da Silva</td>\n",
              "      <td>20</td>\n",
              "      <td>M CIS</td>\n",
              "      <td>Rio de Janeiro</td>\n",
              "      <td>RJ</td>\n",
              "      <td>13/10/2021</td>\n",
              "      <td>NaN</td>\n",
              "    </tr>\n",
              "    <tr>\n",
              "      <th>5</th>\n",
              "      <td>Luiz Felipe</td>\n",
              "      <td>Andrade de Araújo</td>\n",
              "      <td>18</td>\n",
              "      <td>M TRANS</td>\n",
              "      <td>São José dos Campos</td>\n",
              "      <td>SP</td>\n",
              "      <td>28/10/2021</td>\n",
              "      <td>NaN</td>\n",
              "    </tr>\n",
              "    <tr>\n",
              "      <th>6</th>\n",
              "      <td>Marcos</td>\n",
              "      <td>Moura Schneider</td>\n",
              "      <td>28</td>\n",
              "      <td>M CIS</td>\n",
              "      <td>Viçosa</td>\n",
              "      <td>MG</td>\n",
              "      <td>04/08/2021</td>\n",
              "      <td>25/10/2021</td>\n",
              "    </tr>\n",
              "    <tr>\n",
              "      <th>7</th>\n",
              "      <td>Mariana</td>\n",
              "      <td>Souza Marques</td>\n",
              "      <td>33</td>\n",
              "      <td>F CIS</td>\n",
              "      <td>Blumenau</td>\n",
              "      <td>SC</td>\n",
              "      <td>28/07/2021</td>\n",
              "      <td>01/10/2021</td>\n",
              "    </tr>\n",
              "    <tr>\n",
              "      <th>8</th>\n",
              "      <td>Carlos</td>\n",
              "      <td>Campos de Carvalho</td>\n",
              "      <td>48</td>\n",
              "      <td>M CIS</td>\n",
              "      <td>Rio Verde</td>\n",
              "      <td>GO</td>\n",
              "      <td>09/04/2021</td>\n",
              "      <td>05/07/2021</td>\n",
              "    </tr>\n",
              "  </tbody>\n",
              "</table>\n",
              "</div>"
            ],
            "text/plain": [
              "          Nome           Sobrenome  Idade  ... Estado (UF)  data_dose1  data_dose2\n",
              "0   Alessandro     Campos Loureiro     24  ...          PA  12/08/2021  29/10/2021\n",
              "1       Amanda    Lopes dos Santos     30  ...          RJ  29/07/2021  19/10/2021\n",
              "2       Flávia       Weber Ragazzi     26  ...          PR  05/08/2021  22/10/2021\n",
              "3        Joana       Lopes Andrade     35  ...          RS  20/07/2021  06/10/2021\n",
              "4   João Pedro     Santos da Silva     20  ...          RJ  13/10/2021         NaN\n",
              "5  Luiz Felipe   Andrade de Araújo     18  ...          SP  28/10/2021         NaN\n",
              "6       Marcos     Moura Schneider     28  ...          MG  04/08/2021  25/10/2021\n",
              "7      Mariana       Souza Marques     33  ...          SC  28/07/2021  01/10/2021\n",
              "8       Carlos  Campos de Carvalho     48  ...          GO  09/04/2021  05/07/2021\n",
              "\n",
              "[9 rows x 8 columns]"
            ]
          },
          "metadata": {},
          "execution_count": 70
        }
      ]
    },
    {
      "cell_type": "code",
      "metadata": {
        "colab": {
          "base_uri": "https://localhost:8080/",
          "height": 80
        },
        "id": "85o9zdCk_exW",
        "outputId": "4d99258a-51c6-4105-bbe1-344ed437dcb1"
      },
      "source": [
        "#visualizando uma amostra dos dados coletados\n",
        "\n",
        "df.sample()"
      ],
      "execution_count": null,
      "outputs": [
        {
          "output_type": "execute_result",
          "data": {
            "text/html": [
              "<div>\n",
              "<style scoped>\n",
              "    .dataframe tbody tr th:only-of-type {\n",
              "        vertical-align: middle;\n",
              "    }\n",
              "\n",
              "    .dataframe tbody tr th {\n",
              "        vertical-align: top;\n",
              "    }\n",
              "\n",
              "    .dataframe thead th {\n",
              "        text-align: right;\n",
              "    }\n",
              "</style>\n",
              "<table border=\"1\" class=\"dataframe\">\n",
              "  <thead>\n",
              "    <tr style=\"text-align: right;\">\n",
              "      <th></th>\n",
              "      <th>Nome</th>\n",
              "      <th>Sobrenome</th>\n",
              "      <th>Idade</th>\n",
              "      <th>Gênero</th>\n",
              "      <th>Cidade</th>\n",
              "      <th>Estado (UF)</th>\n",
              "      <th>data_dose1</th>\n",
              "      <th>data_dose2</th>\n",
              "    </tr>\n",
              "  </thead>\n",
              "  <tbody>\n",
              "    <tr>\n",
              "      <th>2</th>\n",
              "      <td>Flávia</td>\n",
              "      <td>Weber Ragazzi</td>\n",
              "      <td>26</td>\n",
              "      <td>F CIS</td>\n",
              "      <td>Londrina</td>\n",
              "      <td>PR</td>\n",
              "      <td>05/08/2021</td>\n",
              "      <td>22/10/2021</td>\n",
              "    </tr>\n",
              "  </tbody>\n",
              "</table>\n",
              "</div>"
            ],
            "text/plain": [
              "     Nome      Sobrenome  Idade  ... Estado (UF)  data_dose1  data_dose2\n",
              "2  Flávia  Weber Ragazzi     26  ...          PR  05/08/2021  22/10/2021\n",
              "\n",
              "[1 rows x 8 columns]"
            ]
          },
          "metadata": {},
          "execution_count": 71
        }
      ]
    },
    {
      "cell_type": "code",
      "metadata": {
        "colab": {
          "base_uri": "https://localhost:8080/",
          "height": 35
        },
        "id": "qeoMeu70_k_V",
        "outputId": "78c12566-eb62-483e-fdc7-65c57f1121b3"
      },
      "source": [
        "#retornando a data mais antiga\n",
        "\n",
        "df[\"data_dose1\"].min()"
      ],
      "execution_count": null,
      "outputs": [
        {
          "output_type": "execute_result",
          "data": {
            "application/vnd.google.colaboratory.intrinsic+json": {
              "type": "string"
            },
            "text/plain": [
              "'04/08/2021'"
            ]
          },
          "metadata": {},
          "execution_count": 77
        }
      ]
    },
    {
      "cell_type": "code",
      "metadata": {
        "id": "gTUDWr1DDANs"
      },
      "source": [
        "#convertendo para data coluna1\n",
        "\n",
        "df['data_dose1'] = pd.to_datetime(df['data_dose1'])"
      ],
      "execution_count": null,
      "outputs": []
    },
    {
      "cell_type": "code",
      "metadata": {
        "id": "yv3XG-x2E7lV"
      },
      "source": [
        "#convertendo para data coluna\n",
        "\n",
        "df['data_dose2'] = pd.to_datetime(df['data_dose2'])"
      ],
      "execution_count": null,
      "outputs": []
    },
    {
      "cell_type": "code",
      "metadata": {
        "id": "ZJcnh0AsBlGg"
      },
      "source": [
        "#calculando a diferença de dias\n",
        "\n",
        "df[\"diferença_dias\"] = df[\"data_dose2\"] - df[\"data_dose1\"].min()"
      ],
      "execution_count": null,
      "outputs": []
    },
    {
      "cell_type": "code",
      "metadata": {
        "colab": {
          "base_uri": "https://localhost:8080/",
          "height": 328
        },
        "id": "PQ0xzgeWFFm7",
        "outputId": "661038ca-1196-4b98-d866-3e03ca26231e"
      },
      "source": [
        "df.head(10)"
      ],
      "execution_count": null,
      "outputs": [
        {
          "output_type": "execute_result",
          "data": {
            "text/html": [
              "<div>\n",
              "<style scoped>\n",
              "    .dataframe tbody tr th:only-of-type {\n",
              "        vertical-align: middle;\n",
              "    }\n",
              "\n",
              "    .dataframe tbody tr th {\n",
              "        vertical-align: top;\n",
              "    }\n",
              "\n",
              "    .dataframe thead th {\n",
              "        text-align: right;\n",
              "    }\n",
              "</style>\n",
              "<table border=\"1\" class=\"dataframe\">\n",
              "  <thead>\n",
              "    <tr style=\"text-align: right;\">\n",
              "      <th></th>\n",
              "      <th>Nome</th>\n",
              "      <th>Sobrenome</th>\n",
              "      <th>Idade</th>\n",
              "      <th>Gênero</th>\n",
              "      <th>Cidade</th>\n",
              "      <th>Estado (UF)</th>\n",
              "      <th>data_dose1</th>\n",
              "      <th>data_dose2</th>\n",
              "      <th>diferença_dias</th>\n",
              "    </tr>\n",
              "  </thead>\n",
              "  <tbody>\n",
              "    <tr>\n",
              "      <th>0</th>\n",
              "      <td>Alessandro</td>\n",
              "      <td>Campos Loureiro</td>\n",
              "      <td>24</td>\n",
              "      <td>M CIS</td>\n",
              "      <td>Paraupebas</td>\n",
              "      <td>PA</td>\n",
              "      <td>2021-12-08</td>\n",
              "      <td>2021-10-29</td>\n",
              "      <td>204 days</td>\n",
              "    </tr>\n",
              "    <tr>\n",
              "      <th>1</th>\n",
              "      <td>Amanda</td>\n",
              "      <td>Lopes dos Santos</td>\n",
              "      <td>30</td>\n",
              "      <td>F CIS</td>\n",
              "      <td>Rio das Ostras</td>\n",
              "      <td>RJ</td>\n",
              "      <td>2021-07-29</td>\n",
              "      <td>2021-10-19</td>\n",
              "      <td>194 days</td>\n",
              "    </tr>\n",
              "    <tr>\n",
              "      <th>2</th>\n",
              "      <td>Flávia</td>\n",
              "      <td>Weber Ragazzi</td>\n",
              "      <td>26</td>\n",
              "      <td>F CIS</td>\n",
              "      <td>Londrina</td>\n",
              "      <td>PR</td>\n",
              "      <td>2021-05-08</td>\n",
              "      <td>2021-10-22</td>\n",
              "      <td>197 days</td>\n",
              "    </tr>\n",
              "    <tr>\n",
              "      <th>3</th>\n",
              "      <td>Joana</td>\n",
              "      <td>Lopes Andrade</td>\n",
              "      <td>35</td>\n",
              "      <td>F TRANS</td>\n",
              "      <td>Porto Alegre</td>\n",
              "      <td>RS</td>\n",
              "      <td>2021-07-20</td>\n",
              "      <td>2021-06-10</td>\n",
              "      <td>63 days</td>\n",
              "    </tr>\n",
              "    <tr>\n",
              "      <th>4</th>\n",
              "      <td>João Pedro</td>\n",
              "      <td>Santos da Silva</td>\n",
              "      <td>20</td>\n",
              "      <td>M CIS</td>\n",
              "      <td>Rio de Janeiro</td>\n",
              "      <td>RJ</td>\n",
              "      <td>2021-10-13</td>\n",
              "      <td>NaT</td>\n",
              "      <td>NaT</td>\n",
              "    </tr>\n",
              "    <tr>\n",
              "      <th>5</th>\n",
              "      <td>Luiz Felipe</td>\n",
              "      <td>Andrade de Araújo</td>\n",
              "      <td>18</td>\n",
              "      <td>M TRANS</td>\n",
              "      <td>São José dos Campos</td>\n",
              "      <td>SP</td>\n",
              "      <td>2021-10-28</td>\n",
              "      <td>NaT</td>\n",
              "      <td>NaT</td>\n",
              "    </tr>\n",
              "    <tr>\n",
              "      <th>6</th>\n",
              "      <td>Marcos</td>\n",
              "      <td>Moura Schneider</td>\n",
              "      <td>28</td>\n",
              "      <td>M CIS</td>\n",
              "      <td>Viçosa</td>\n",
              "      <td>MG</td>\n",
              "      <td>2021-04-08</td>\n",
              "      <td>2021-10-25</td>\n",
              "      <td>200 days</td>\n",
              "    </tr>\n",
              "    <tr>\n",
              "      <th>7</th>\n",
              "      <td>Mariana</td>\n",
              "      <td>Souza Marques</td>\n",
              "      <td>33</td>\n",
              "      <td>F CIS</td>\n",
              "      <td>Blumenau</td>\n",
              "      <td>SC</td>\n",
              "      <td>2021-07-28</td>\n",
              "      <td>2021-01-10</td>\n",
              "      <td>-88 days</td>\n",
              "    </tr>\n",
              "    <tr>\n",
              "      <th>8</th>\n",
              "      <td>Carlos</td>\n",
              "      <td>Campos de Carvalho</td>\n",
              "      <td>48</td>\n",
              "      <td>M CIS</td>\n",
              "      <td>Rio Verde</td>\n",
              "      <td>GO</td>\n",
              "      <td>2021-09-04</td>\n",
              "      <td>2021-05-07</td>\n",
              "      <td>29 days</td>\n",
              "    </tr>\n",
              "  </tbody>\n",
              "</table>\n",
              "</div>"
            ],
            "text/plain": [
              "          Nome           Sobrenome  Idade  ... data_dose1 data_dose2 diferença_dias\n",
              "0   Alessandro     Campos Loureiro     24  ... 2021-12-08 2021-10-29       204 days\n",
              "1       Amanda    Lopes dos Santos     30  ... 2021-07-29 2021-10-19       194 days\n",
              "2       Flávia       Weber Ragazzi     26  ... 2021-05-08 2021-10-22       197 days\n",
              "3        Joana       Lopes Andrade     35  ... 2021-07-20 2021-06-10        63 days\n",
              "4   João Pedro     Santos da Silva     20  ... 2021-10-13        NaT            NaT\n",
              "5  Luiz Felipe   Andrade de Araújo     18  ... 2021-10-28        NaT            NaT\n",
              "6       Marcos     Moura Schneider     28  ... 2021-04-08 2021-10-25       200 days\n",
              "7      Mariana       Souza Marques     33  ... 2021-07-28 2021-01-10       -88 days\n",
              "8       Carlos  Campos de Carvalho     48  ... 2021-09-04 2021-05-07        29 days\n",
              "\n",
              "[9 rows x 9 columns]"
            ]
          },
          "metadata": {},
          "execution_count": 93
        }
      ]
    },
    {
      "cell_type": "markdown",
      "metadata": {
        "id": "4m6VepNXHTjP"
      },
      "source": [
        "### **Visualização de Dados**"
      ]
    },
    {
      "cell_type": "code",
      "metadata": {
        "colab": {
          "base_uri": "https://localhost:8080/"
        },
        "id": "arzz5IQsHZXL",
        "outputId": "175229a5-849b-4352-b674-271f3b823779"
      },
      "source": [
        "df[\"data_dose1\"].value_counts(ascending=False)"
      ],
      "execution_count": null,
      "outputs": [
        {
          "output_type": "execute_result",
          "data": {
            "text/plain": [
              "2021-10-28    1\n",
              "2021-10-13    1\n",
              "2021-07-28    1\n",
              "2021-05-08    1\n",
              "2021-07-20    1\n",
              "2021-07-29    1\n",
              "2021-04-08    1\n",
              "2021-12-08    1\n",
              "2021-09-04    1\n",
              "Name: data_dose1, dtype: int64"
            ]
          },
          "metadata": {},
          "execution_count": 94
        }
      ]
    },
    {
      "cell_type": "code",
      "metadata": {
        "colab": {
          "base_uri": "https://localhost:8080/"
        },
        "id": "-RaWvC1-HnmM",
        "outputId": "944fb103-c389-41de-808c-e1ad79ac2b34"
      },
      "source": [
        "df[\"data_dose2\"].value_counts(ascending=False)"
      ],
      "execution_count": null,
      "outputs": [
        {
          "output_type": "execute_result",
          "data": {
            "text/plain": [
              "2021-10-19    1\n",
              "2021-10-22    1\n",
              "2021-10-25    1\n",
              "2021-06-10    1\n",
              "2021-01-10    1\n",
              "2021-05-07    1\n",
              "2021-10-29    1\n",
              "Name: data_dose2, dtype: int64"
            ]
          },
          "metadata": {},
          "execution_count": 95
        }
      ]
    },
    {
      "cell_type": "code",
      "metadata": {
        "colab": {
          "base_uri": "https://localhost:8080/",
          "height": 360
        },
        "id": "MgGSVq31Hubr",
        "outputId": "906c1f10-56a7-4ede-eeff-05caa8685832"
      },
      "source": [
        "#gráfico_barras1\n",
        "\n",
        "df[\"data_dose1\"].value_counts(ascending=False).plot.bar();"
      ],
      "execution_count": null,
      "outputs": [
        {
          "output_type": "display_data",
          "data": {
            "image/png": "[encoded data removed]",
            "text/plain": [
              "<Figure size 432x288 with 1 Axes>"
            ]
          },
          "metadata": {
            "needs_background": "light"
          }
        }
      ]
    },
    {
      "cell_type": "code",
      "metadata": {
        "colab": {
          "base_uri": "https://localhost:8080/",
          "height": 377
        },
        "id": "JcWkALd8H_5S",
        "outputId": "f497d5cb-f91e-436a-ef84-fdb7893e8027"
      },
      "source": [
        "#grafico_barras2\n",
        "\n",
        "df[\"data_dose2\"].value_counts(ascending=False).plot.bar();"
      ],
      "execution_count": null,
      "outputs": [
        {
          "output_type": "execute_result",
          "data": {
            "text/plain": [
              "<matplotlib.axes._subplots.AxesSubplot at 0x7ff968a695d0>"
            ]
          },
          "metadata": {},
          "execution_count": 97
        },
        {
          "output_type": "display_data",
          "data": {
            "image/png": "[encoded data removed]",
            "text/plain": [
              "<Figure size 432x288 with 1 Axes>"
            ]
          },
          "metadata": {
            "needs_background": "light"
          }
        }
      ]
    },
    {
      "cell_type": "code",
      "metadata": {
        "colab": {
          "base_uri": "https://localhost:8080/",
          "height": 265
        },
        "id": "d6jm5q7DIFSE",
        "outputId": "ad89dc0c-278e-4b02-a1e9-0bd88a2fe328"
      },
      "source": [
        "#grafico_barras_horizontais1\n",
        "\n",
        "df[\"data_dose1\"].value_counts(ascending=False).plot.barh();"
      ],
      "execution_count": null,
      "outputs": [
        {
          "output_type": "display_data",
          "data": {
            "image/png": "[encoded data removed]",
            "text/plain": [
              "<Figure size 432x288 with 1 Axes>"
            ]
          },
          "metadata": {
            "needs_background": "light"
          }
        }
      ]
    },
    {
      "cell_type": "code",
      "metadata": {
        "colab": {
          "base_uri": "https://localhost:8080/",
          "height": 265
        },
        "id": "ZHz_IG8jIPOE",
        "outputId": "594eeb57-0718-4e7f-9f21-185f19bfa48c"
      },
      "source": [
        "#grafico_barras_horizontais2\n",
        "\n",
        "df[\"data_dose2\"].value_counts(ascending=False).plot.barh();"
      ],
      "execution_count": null,
      "outputs": [
        {
          "output_type": "display_data",
          "data": {
            "image/png": "[encoded data removed]",
            "text/plain": [
              "<Figure size 432x288 with 1 Axes>"
            ]
          },
          "metadata": {
            "needs_background": "light"
          }
        }
      ]
    },
    {
      "cell_type": "code",
      "metadata": {
        "colab": {
          "base_uri": "https://localhost:8080/",
          "height": 265
        },
        "id": "lt2sOe1DIXNa",
        "outputId": "5723e017-75eb-4631-b028-f0f3ef4fdad4"
      },
      "source": [
        "#grafico_pizza1\n",
        "\n",
        "df[\"data_dose1\"].value_counts(ascending=False).plot.pie()"
      ],
      "execution_count": null,
      "outputs": [
        {
          "output_type": "execute_result",
          "data": {
            "text/plain": [
              "<matplotlib.axes._subplots.AxesSubplot at 0x7ff968967d90>"
            ]
          },
          "metadata": {},
          "execution_count": 101
        },
        {
          "output_type": "display_data",
          "data": {
            "image/png": "[encoded data removed]",
            "text/plain": [
              "<Figure size 432x288 with 1 Axes>"
            ]
          },
          "metadata": {}
        }
      ]
    },
    {
      "cell_type": "code",
      "metadata": {
        "colab": {
          "base_uri": "https://localhost:8080/",
          "height": 265
        },
        "id": "uDBdTk9dIdBq",
        "outputId": "d0e3aff2-010b-41be-cfcd-e5f92d233f49"
      },
      "source": [
        "#grafico_pizza2\n",
        "\n",
        "df[\"data_dose2\"].value_counts(ascending=False).plot.pie()"
      ],
      "execution_count": null,
      "outputs": [
        {
          "output_type": "execute_result",
          "data": {
            "text/plain": [
              "<matplotlib.axes._subplots.AxesSubplot at 0x7ff9688d77d0>"
            ]
          },
          "metadata": {},
          "execution_count": 102
        },
        {
          "output_type": "display_data",
          "data": {
            "image/png": "[encoded data removed]",
            "text/plain": [
              "<Figure size 432x288 with 1 Axes>"
            ]
          },
          "metadata": {}
        }
      ]
    },
    {
      "cell_type": "code",
      "metadata": {
        "colab": {
          "base_uri": "https://localhost:8080/",
          "height": 197
        },
        "id": "qPpY-PvaLtiA",
        "outputId": "b421a868-7732-4787-fa88-ead42bad4908"
      },
      "source": [
        "#histograma\n",
        "\n",
        "plt.hist(df[\"data_dose1\"], color=\"orangered\");"
      ],
      "execution_count": null,
      "outputs": [
        {
          "output_type": "error",
          "ename": "NameError",
          "evalue": "ignored",
          "traceback": [
            "\u001b[0;31m---------------------------------------------------------------------------\u001b[0m",
            "\u001b[0;31mNameError\u001b[0m                                 Traceback (most recent call last)",
            "\u001b[0;32m<ipython-input-116-43020c1c3a1a>\u001b[0m in \u001b[0;36m<module>\u001b[0;34m()\u001b[0m\n\u001b[1;32m      1\u001b[0m \u001b[0;31m#histograma\u001b[0m\u001b[0;34m\u001b[0m\u001b[0;34m\u001b[0m\u001b[0;34m\u001b[0m\u001b[0m\n\u001b[1;32m      2\u001b[0m \u001b[0;34m\u001b[0m\u001b[0m\n\u001b[0;32m----> 3\u001b[0;31m \u001b[0mdf\u001b[0m \u001b[0;34m=\u001b[0m \u001b[0mplt\u001b[0m\u001b[0;34m.\u001b[0m\u001b[0mhist\u001b[0m\u001b[0;34m(\u001b[0m\u001b[0mdf\u001b[0m\u001b[0;34m[\u001b[0m\u001b[0;34m\"data_dose1\"\u001b[0m\u001b[0;34m]\u001b[0m\u001b[0;34m,\u001b[0m \u001b[0mcolor\u001b[0m\u001b[0;34m=\u001b[0m\u001b[0;34m\"orangered\"\u001b[0m\u001b[0;34m)\u001b[0m\u001b[0;34m;\u001b[0m\u001b[0;34m\u001b[0m\u001b[0;34m\u001b[0m\u001b[0m\n\u001b[0m",
            "\u001b[0;31mNameError\u001b[0m: name 'plt' is not defined"
          ]
        }
      ]
    },
    {
      "cell_type": "code",
      "metadata": {
        "colab": {
          "base_uri": "https://localhost:8080/",
          "height": 197
        },
        "id": "m6Wj0INCMfMD",
        "outputId": "14b6e9de-33b5-4f5a-dbf6-45d8f68ee38f"
      },
      "source": [
        "#scatter\n",
        "\n",
        "plt.scatter(x=df_2021[\"data_dose1\"], y= df_2021[\"data_dose2\"]);"
      ],
      "execution_count": null,
      "outputs": [
        {
          "output_type": "error",
          "ename": "NameError",
          "evalue": "ignored",
          "traceback": [
            "\u001b[0;31m---------------------------------------------------------------------------\u001b[0m",
            "\u001b[0;31mNameError\u001b[0m                                 Traceback (most recent call last)",
            "\u001b[0;32m<ipython-input-118-3a2bf7121bba>\u001b[0m in \u001b[0;36m<module>\u001b[0;34m()\u001b[0m\n\u001b[1;32m      1\u001b[0m \u001b[0;31m#scatter\u001b[0m\u001b[0;34m\u001b[0m\u001b[0;34m\u001b[0m\u001b[0;34m\u001b[0m\u001b[0m\n\u001b[1;32m      2\u001b[0m \u001b[0;34m\u001b[0m\u001b[0m\n\u001b[0;32m----> 3\u001b[0;31m \u001b[0mplt\u001b[0m\u001b[0;34m.\u001b[0m\u001b[0mscatter\u001b[0m\u001b[0;34m(\u001b[0m\u001b[0mx\u001b[0m\u001b[0;34m=\u001b[0m\u001b[0mdf_2021\u001b[0m\u001b[0;34m[\u001b[0m\u001b[0;34m\"data_dose1\"\u001b[0m\u001b[0;34m]\u001b[0m\u001b[0;34m,\u001b[0m \u001b[0my\u001b[0m\u001b[0;34m=\u001b[0m \u001b[0mdf_2021\u001b[0m\u001b[0;34m[\u001b[0m\u001b[0;34m\"data_dose2\"\u001b[0m\u001b[0;34m]\u001b[0m\u001b[0;34m)\u001b[0m\u001b[0;34m;\u001b[0m\u001b[0;34m\u001b[0m\u001b[0;34m\u001b[0m\u001b[0m\n\u001b[0m",
            "\u001b[0;31mNameError\u001b[0m: name 'plt' is not defined"
          ]
        }
      ]
    }
  ]
}